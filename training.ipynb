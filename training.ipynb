{
 "cells": [
  {
   "cell_type": "markdown",
   "metadata": {},
   "source": [
    "# Challenge AI giugno: Pokemon - Riccardo Moglioni"
   ]
  },
  {
   "cell_type": "markdown",
   "metadata": {},
   "source": [
    "## Training"
   ]
  },
  {
   "cell_type": "code",
   "execution_count": 1,
   "metadata": {},
   "outputs": [
    {
     "name": "stdout",
     "output_type": "stream",
     "text": [
      "Requirement already satisfied: pandas in d:\\programmi\\anaconda3\\lib\\site-packages (1.1.3)\n",
      "Requirement already satisfied: pytz>=2017.2 in d:\\programmi\\anaconda3\\lib\\site-packages (from pandas) (2020.1)\n",
      "Requirement already satisfied: python-dateutil>=2.7.3 in d:\\programmi\\anaconda3\\lib\\site-packages (from pandas) (2.8.1)\n",
      "Requirement already satisfied: numpy>=1.15.4 in d:\\programmi\\anaconda3\\lib\\site-packages (from pandas) (1.19.2)\n",
      "Requirement already satisfied: six>=1.5 in d:\\programmi\\anaconda3\\lib\\site-packages (from python-dateutil>=2.7.3->pandas) (1.15.0)\n",
      "Requirement already satisfied: scikit-learn in d:\\programmi\\anaconda3\\lib\\site-packages (0.22)\n",
      "Requirement already satisfied: scipy>=0.17.0 in d:\\programmi\\anaconda3\\lib\\site-packages (from scikit-learn) (1.5.2)\n",
      "Requirement already satisfied: joblib>=0.11 in d:\\programmi\\anaconda3\\lib\\site-packages (from scikit-learn) (0.17.0)\n",
      "Requirement already satisfied: numpy>=1.11.0 in d:\\programmi\\anaconda3\\lib\\site-packages (from scikit-learn) (1.19.2)\n"
     ]
    }
   ],
   "source": [
    "!pip install pandas\n",
    "!pip install scikit-learn\n",
    "import pandas as pd\n",
    "import numpy as np\n",
    "import matplotlib.pyplot as plt\n",
    "from sklearn.preprocessing import LabelEncoder\n",
    "from sklearn.feature_selection import mutual_info_regression\n",
    "from sklearn.model_selection import train_test_split\n",
    "from sklearn.tree import DecisionTreeClassifier"
   ]
  },
  {
   "cell_type": "markdown",
   "metadata": {},
   "source": [
    "### Elaborazione dei dati"
   ]
  },
  {
   "cell_type": "code",
   "execution_count": 2,
   "metadata": {},
   "outputs": [],
   "source": [
    "# Lettura dei file csv\n",
    "train_path = \"train.csv\"\n",
    "train = pd.read_csv(train_path)\n",
    "\n",
    "test_path = \"test.csv\"\n",
    "test = pd.read_csv(test_path)"
   ]
  },
  {
   "cell_type": "code",
   "execution_count": 3,
   "metadata": {},
   "outputs": [
    {
     "data": {
      "text/html": [
       "<div>\n",
       "<style scoped>\n",
       "    .dataframe tbody tr th:only-of-type {\n",
       "        vertical-align: middle;\n",
       "    }\n",
       "\n",
       "    .dataframe tbody tr th {\n",
       "        vertical-align: top;\n",
       "    }\n",
       "\n",
       "    .dataframe thead th {\n",
       "        text-align: right;\n",
       "    }\n",
       "</style>\n",
       "<table border=\"1\" class=\"dataframe\">\n",
       "  <thead>\n",
       "    <tr style=\"text-align: right;\">\n",
       "      <th></th>\n",
       "      <th>First_pokemon</th>\n",
       "      <th>Second_pokemon</th>\n",
       "      <th>Winner</th>\n",
       "    </tr>\n",
       "  </thead>\n",
       "  <tbody>\n",
       "    <tr>\n",
       "      <th>0</th>\n",
       "      <td>124</td>\n",
       "      <td>221</td>\n",
       "      <td>124</td>\n",
       "    </tr>\n",
       "    <tr>\n",
       "      <th>1</th>\n",
       "      <td>323</td>\n",
       "      <td>1</td>\n",
       "      <td>1</td>\n",
       "    </tr>\n",
       "    <tr>\n",
       "      <th>2</th>\n",
       "      <td>58</td>\n",
       "      <td>459</td>\n",
       "      <td>58</td>\n",
       "    </tr>\n",
       "    <tr>\n",
       "      <th>3</th>\n",
       "      <td>180</td>\n",
       "      <td>491</td>\n",
       "      <td>491</td>\n",
       "    </tr>\n",
       "    <tr>\n",
       "      <th>4</th>\n",
       "      <td>799</td>\n",
       "      <td>559</td>\n",
       "      <td>799</td>\n",
       "    </tr>\n",
       "  </tbody>\n",
       "</table>\n",
       "</div>"
      ],
      "text/plain": [
       "   First_pokemon  Second_pokemon  Winner\n",
       "0            124             221     124\n",
       "1            323               1       1\n",
       "2             58             459      58\n",
       "3            180             491     491\n",
       "4            799             559     799"
      ]
     },
     "execution_count": 3,
     "metadata": {},
     "output_type": "execute_result"
    }
   ],
   "source": [
    "# Visualizzo i dati\n",
    "# Da una prima osservazione, considerando l'assunzione fatta nel testo della prova:\n",
    "# \"Il pokemon nella prima colonna attacca per primo\" (con una configurazione delle \n",
    "# colonne identica a questa), sembra che il primo pokemon abbia più probabilità \n",
    "# di vittoria. Occorre realizzare una feature che tenga conto di questo.\n",
    "# I valori nelle colonne seppur numerici rappresentano delle etichette, li sostituisco \n",
    "# con 0/1 ad indicare 0=primo pokemon e 1=secondo pokemon. \n",
    "# Al termine posso poi riconvertire\n",
    "train.head()"
   ]
  },
  {
   "cell_type": "code",
   "execution_count": 4,
   "metadata": {},
   "outputs": [
    {
     "name": "stdout",
     "output_type": "stream",
     "text": [
      "First_pokemon     0\n",
      "Second_pokemon    0\n",
      "Winner            0\n",
      "dtype: int64\n",
      "First_pokemon     0\n",
      "Second_pokemon    0\n",
      "Winner            0\n",
      "dtype: int64\n"
     ]
    }
   ],
   "source": [
    "# Controllo di eventuali valori mancanti\n",
    "\n",
    "# Calcolo dei valori missing in funzione delle colonne\n",
    "train_missing_values_count = train.isnull().sum()\n",
    "print(train_missing_values_count)\n",
    "test_missing_values_count = test.isnull().sum()\n",
    "print(test_missing_values_count)"
   ]
  },
  {
   "cell_type": "code",
   "execution_count": 5,
   "metadata": {},
   "outputs": [
    {
     "name": "stdout",
     "output_type": "stream",
     "text": [
      "       First_pokemon  Second_pokemon        Winner\n",
      "count   32000.000000    32000.000000  32000.000000\n",
      "mean      400.581500      402.452063    408.302250\n",
      "std       229.831285      230.277071    231.131808\n",
      "min         1.000000        1.000000      1.000000\n",
      "25%       202.000000      206.000000    205.000000\n",
      "50%       400.000000      401.000000    421.000000\n",
      "75%       599.000000      602.000000    606.000000\n",
      "max       800.000000      800.000000    800.000000\n",
      "       First_pokemon  Second_pokemon       Winner\n",
      "count    8000.000000      8000.00000  8000.000000\n",
      "mean      403.340750       404.74475   411.908375\n",
      "std       230.489596       229.81238   231.711407\n",
      "min         1.000000         1.00000     1.000000\n",
      "25%       206.750000       207.00000   212.000000\n",
      "50%       403.000000       405.00000   426.000000\n",
      "75%       600.000000       606.00000   608.000000\n",
      "max       800.000000       800.00000   800.000000\n"
     ]
    }
   ],
   "source": [
    "# Non ci sono valori nulli e tutti i valori sono numerici \n",
    "# e conformi al tipo di dato che mi aspetto\n",
    "print(train.describe())\n",
    "print(test.describe())"
   ]
  },
  {
   "cell_type": "code",
   "execution_count": 6,
   "metadata": {},
   "outputs": [
    {
     "data": {
      "text/plain": [
       "(-1.0, 2.0)"
      ]
     },
     "execution_count": 6,
     "metadata": {},
     "output_type": "execute_result"
    },
    {
     "data": {
      "image/png": "[encoded data removed]",
      "text/plain": [
       "<Figure size 720x72 with 1 Axes>"
      ]
     },
     "metadata": {
      "needs_background": "light"
     },
     "output_type": "display_data"
    }
   ],
   "source": [
    "# Visualizziamo la percentuale di vittorie in funzione della posizione del pokemon\n",
    "def fWinnerPer(df1, df2):\n",
    "    fwin = 0\n",
    "    count = 0\n",
    "    for i in range(len(df1)):\n",
    "        if df1.loc[i,'Winner'] == df1.loc[i,'First_pokemon']:\n",
    "            fwin = fwin+1\n",
    "        count = count+1\n",
    "    for i in range(len(df2)):\n",
    "        if df2.loc[i,'Winner'] == df2.loc[i,'First_pokemon']:\n",
    "            fwin = fwin+1\n",
    "        count = count+1\n",
    "    return fwin/count\n",
    "\n",
    "# Calcolo i valori per le due posizioni\n",
    "first = fWinnerPer(train, test)\n",
    "second = 1-first\n",
    "result = [first, second]\n",
    "\n",
    "# Stampo il grafo\n",
    "plt.figure(figsize=(10,1))\n",
    "plt.barh(np.arange(2), result, align='center')\n",
    "plt.yticks(np.arange(2), ['%_first', '%_second'])\n",
    "plt.xlabel(\"Position winnings\")\n",
    "plt.ylabel(\"Position\")\n",
    "plt.ylim(-1, 2)"
   ]
  },
  {
   "cell_type": "code",
   "execution_count": 7,
   "metadata": {},
   "outputs": [
    {
     "data": {
      "text/plain": [
       "[0.4712, 0.5287999999999999]"
      ]
     },
     "execution_count": 7,
     "metadata": {},
     "output_type": "execute_result"
    }
   ],
   "source": [
    "# Fornite tutti valori 1 (vittoria del secondo) da circa il 53% di risultati corretti\n",
    "result"
   ]
  },
  {
   "cell_type": "code",
   "execution_count": 8,
   "metadata": {},
   "outputs": [],
   "source": [
    "# A quanto pare l'assunzione fatta in precedenza è errata. La posizione, quindi chi attacca per primo, \n",
    "# non è rilevante in termini di numero di vittorie. Forse i pokemon in prima posizione sono svantaggiati \n",
    "# in termini di forza, quindi l'attaccare per primi gli permette di colmare la differenza? Occorre \n",
    "# verificare quanto i primi siano svantaggiati rispetto i secondi. Occorre acquisire i valori dei \n",
    "# singoli pokemon"
   ]
  },
  {
   "cell_type": "code",
   "execution_count": 9,
   "metadata": {},
   "outputs": [
    {
     "data": {
      "text/html": [
       "<div>\n",
       "<style scoped>\n",
       "    .dataframe tbody tr th:only-of-type {\n",
       "        vertical-align: middle;\n",
       "    }\n",
       "\n",
       "    .dataframe tbody tr th {\n",
       "        vertical-align: top;\n",
       "    }\n",
       "\n",
       "    .dataframe thead th {\n",
       "        text-align: right;\n",
       "    }\n",
       "</style>\n",
       "<table border=\"1\" class=\"dataframe\">\n",
       "  <thead>\n",
       "    <tr style=\"text-align: right;\">\n",
       "      <th></th>\n",
       "      <th>First_pokemon</th>\n",
       "      <th>Second_pokemon</th>\n",
       "      <th>Winner</th>\n",
       "      <th>num_winner</th>\n",
       "    </tr>\n",
       "  </thead>\n",
       "  <tbody>\n",
       "    <tr>\n",
       "      <th>0</th>\n",
       "      <td>124</td>\n",
       "      <td>221</td>\n",
       "      <td>124</td>\n",
       "      <td>0.0</td>\n",
       "    </tr>\n",
       "    <tr>\n",
       "      <th>1</th>\n",
       "      <td>323</td>\n",
       "      <td>1</td>\n",
       "      <td>1</td>\n",
       "      <td>1.0</td>\n",
       "    </tr>\n",
       "    <tr>\n",
       "      <th>2</th>\n",
       "      <td>58</td>\n",
       "      <td>459</td>\n",
       "      <td>58</td>\n",
       "      <td>0.0</td>\n",
       "    </tr>\n",
       "    <tr>\n",
       "      <th>3</th>\n",
       "      <td>180</td>\n",
       "      <td>491</td>\n",
       "      <td>491</td>\n",
       "      <td>1.0</td>\n",
       "    </tr>\n",
       "    <tr>\n",
       "      <th>4</th>\n",
       "      <td>799</td>\n",
       "      <td>559</td>\n",
       "      <td>799</td>\n",
       "      <td>0.0</td>\n",
       "    </tr>\n",
       "  </tbody>\n",
       "</table>\n",
       "</div>"
      ],
      "text/plain": [
       "   First_pokemon  Second_pokemon  Winner  num_winner\n",
       "0            124             221     124         0.0\n",
       "1            323               1       1         1.0\n",
       "2             58             459      58         0.0\n",
       "3            180             491     491         1.0\n",
       "4            799             559     799         0.0"
      ]
     },
     "execution_count": 9,
     "metadata": {},
     "output_type": "execute_result"
    }
   ],
   "source": [
    "# Creazione della nuova colonna winner\n",
    "\n",
    "# creo due colonne original nel caso voglia riconvertire i valori al termine delle operazioni\n",
    "# per fornire il risultato\n",
    "original_train_y = train.Winner\n",
    "original_test_y = test.Winner\n",
    "\n",
    "#Funzione che crea la colonna \"num-winner\" con valori 0 quando vince il primo pokemon, 1 altrimenti\n",
    "def winner_conversion(df):\n",
    "    for i in range(len(df)):\n",
    "        if df.loc[i,'Winner'] == df.loc[i,'First_pokemon']:\n",
    "            df.loc[i,'num_winner']=int(0)\n",
    "        else:\n",
    "            df.loc[i,'num_winner']=int(1)\n",
    "\n",
    "# Applico la funzione a train e test\n",
    "winner_conversion(train)\n",
    "winner_conversion(test)\n",
    "\n",
    "train.head()"
   ]
  },
  {
   "cell_type": "code",
   "execution_count": 10,
   "metadata": {},
   "outputs": [],
   "source": [
    "# Rimozione della vecchia colonna Winner\n",
    "X_train = train.drop(['Winner'], axis=1)\n",
    "\n",
    "X_test = test.drop(['Winner'], axis=1)"
   ]
  },
  {
   "cell_type": "markdown",
   "metadata": {},
   "source": [
    "### Inserimento dei valori relativi ai pokemon (dal file pokemon.csv)"
   ]
  },
  {
   "cell_type": "code",
   "execution_count": 11,
   "metadata": {},
   "outputs": [
    {
     "data": {
      "text/html": [
       "<div>\n",
       "<style scoped>\n",
       "    .dataframe tbody tr th:only-of-type {\n",
       "        vertical-align: middle;\n",
       "    }\n",
       "\n",
       "    .dataframe tbody tr th {\n",
       "        vertical-align: top;\n",
       "    }\n",
       "\n",
       "    .dataframe thead th {\n",
       "        text-align: right;\n",
       "    }\n",
       "</style>\n",
       "<table border=\"1\" class=\"dataframe\">\n",
       "  <thead>\n",
       "    <tr style=\"text-align: right;\">\n",
       "      <th></th>\n",
       "      <th>#</th>\n",
       "      <th>Name</th>\n",
       "      <th>Type 1</th>\n",
       "      <th>Type 2</th>\n",
       "      <th>HP</th>\n",
       "      <th>Attack</th>\n",
       "      <th>Defense</th>\n",
       "      <th>Sp. Atk</th>\n",
       "      <th>Sp. Def</th>\n",
       "      <th>Speed</th>\n",
       "      <th>Generation</th>\n",
       "      <th>Legendary</th>\n",
       "    </tr>\n",
       "  </thead>\n",
       "  <tbody>\n",
       "    <tr>\n",
       "      <th>0</th>\n",
       "      <td>1</td>\n",
       "      <td>Bulbasaur</td>\n",
       "      <td>Grass</td>\n",
       "      <td>Poison</td>\n",
       "      <td>45</td>\n",
       "      <td>49</td>\n",
       "      <td>49</td>\n",
       "      <td>65</td>\n",
       "      <td>65</td>\n",
       "      <td>45</td>\n",
       "      <td>1</td>\n",
       "      <td>False</td>\n",
       "    </tr>\n",
       "    <tr>\n",
       "      <th>1</th>\n",
       "      <td>2</td>\n",
       "      <td>Ivysaur</td>\n",
       "      <td>Grass</td>\n",
       "      <td>Poison</td>\n",
       "      <td>60</td>\n",
       "      <td>62</td>\n",
       "      <td>63</td>\n",
       "      <td>80</td>\n",
       "      <td>80</td>\n",
       "      <td>60</td>\n",
       "      <td>1</td>\n",
       "      <td>False</td>\n",
       "    </tr>\n",
       "    <tr>\n",
       "      <th>2</th>\n",
       "      <td>3</td>\n",
       "      <td>Venusaur</td>\n",
       "      <td>Grass</td>\n",
       "      <td>Poison</td>\n",
       "      <td>80</td>\n",
       "      <td>82</td>\n",
       "      <td>83</td>\n",
       "      <td>100</td>\n",
       "      <td>100</td>\n",
       "      <td>80</td>\n",
       "      <td>1</td>\n",
       "      <td>False</td>\n",
       "    </tr>\n",
       "    <tr>\n",
       "      <th>3</th>\n",
       "      <td>4</td>\n",
       "      <td>Mega Venusaur</td>\n",
       "      <td>Grass</td>\n",
       "      <td>Poison</td>\n",
       "      <td>80</td>\n",
       "      <td>100</td>\n",
       "      <td>123</td>\n",
       "      <td>122</td>\n",
       "      <td>120</td>\n",
       "      <td>80</td>\n",
       "      <td>1</td>\n",
       "      <td>False</td>\n",
       "    </tr>\n",
       "    <tr>\n",
       "      <th>4</th>\n",
       "      <td>5</td>\n",
       "      <td>Charmander</td>\n",
       "      <td>Fire</td>\n",
       "      <td>NaN</td>\n",
       "      <td>39</td>\n",
       "      <td>52</td>\n",
       "      <td>43</td>\n",
       "      <td>60</td>\n",
       "      <td>50</td>\n",
       "      <td>65</td>\n",
       "      <td>1</td>\n",
       "      <td>False</td>\n",
       "    </tr>\n",
       "  </tbody>\n",
       "</table>\n",
       "</div>"
      ],
      "text/plain": [
       "   #           Name Type 1  Type 2  HP  Attack  Defense  Sp. Atk  Sp. Def  \\\n",
       "0  1      Bulbasaur  Grass  Poison  45      49       49       65       65   \n",
       "1  2        Ivysaur  Grass  Poison  60      62       63       80       80   \n",
       "2  3       Venusaur  Grass  Poison  80      82       83      100      100   \n",
       "3  4  Mega Venusaur  Grass  Poison  80     100      123      122      120   \n",
       "4  5     Charmander   Fire     NaN  39      52       43       60       50   \n",
       "\n",
       "   Speed  Generation  Legendary  \n",
       "0     45           1      False  \n",
       "1     60           1      False  \n",
       "2     80           1      False  \n",
       "3     80           1      False  \n",
       "4     65           1      False  "
      ]
     },
     "execution_count": 11,
     "metadata": {},
     "output_type": "execute_result"
    }
   ],
   "source": [
    "# Lettura del file\n",
    "pokemon_path = \"pokemon.csv\"\n",
    "pokemon_raw = pd.read_csv(pokemon_path)\n",
    "pokemon_raw.head()"
   ]
  },
  {
   "cell_type": "code",
   "execution_count": 12,
   "metadata": {},
   "outputs": [
    {
     "name": "stdout",
     "output_type": "stream",
     "text": [
      "#               0\n",
      "Name            1\n",
      "Type 1          0\n",
      "Type 2        386\n",
      "HP              0\n",
      "Attack          0\n",
      "Defense         0\n",
      "Sp. Atk         0\n",
      "Sp. Def         0\n",
      "Speed           0\n",
      "Generation      0\n",
      "Legendary       0\n",
      "dtype: int64\n"
     ]
    }
   ],
   "source": [
    "# Controllo di eventuali valori nulli nella tabella pokemon\n",
    "\n",
    "# Calcolo dei valori missing in funzione delle colonne\n",
    "pokemon_missing_values_count = pokemon_raw.isnull().sum()\n",
    "print(pokemon_missing_values_count)"
   ]
  },
  {
   "cell_type": "code",
   "execution_count": 13,
   "metadata": {},
   "outputs": [],
   "source": [
    "# Risultano alcuni valori nulli:\n",
    "# - manca un nome, ma per quella che sarà l'elaborazione dei dati i nomi saranno \n",
    "#                  omessi quindi il problema è trascurabile\n",
    "# - mancano dei Type 2, rappresentando la seconda tipologia del pokemon non tutti \n",
    "#                       i pokemon hanno tale caratteristica (credo) per questo \n",
    "#                       occorre gestire questa mancanza"
   ]
  },
  {
   "cell_type": "code",
   "execution_count": 14,
   "metadata": {},
   "outputs": [
    {
     "name": "stdout",
     "output_type": "stream",
     "text": [
      "count       800\n",
      "unique       18\n",
      "top       Water\n",
      "freq        112\n",
      "Name: Type 1, dtype: object\n",
      "count        414\n",
      "unique        18\n",
      "top       Flying\n",
      "freq          97\n",
      "Name: Type 2, dtype: object\n"
     ]
    }
   ],
   "source": [
    "print(pokemon_raw['Type 1'].describe())\n",
    "print(pokemon_raw['Type 2'].describe())"
   ]
  },
  {
   "cell_type": "code",
   "execution_count": 15,
   "metadata": {},
   "outputs": [
    {
     "data": {
      "text/html": [
       "<div>\n",
       "<style scoped>\n",
       "    .dataframe tbody tr th:only-of-type {\n",
       "        vertical-align: middle;\n",
       "    }\n",
       "\n",
       "    .dataframe tbody tr th {\n",
       "        vertical-align: top;\n",
       "    }\n",
       "\n",
       "    .dataframe thead th {\n",
       "        text-align: right;\n",
       "    }\n",
       "</style>\n",
       "<table border=\"1\" class=\"dataframe\">\n",
       "  <thead>\n",
       "    <tr style=\"text-align: right;\">\n",
       "      <th></th>\n",
       "      <th>#</th>\n",
       "      <th>Type 1</th>\n",
       "      <th>Type 2</th>\n",
       "      <th>HP</th>\n",
       "      <th>Attack</th>\n",
       "      <th>Defense</th>\n",
       "      <th>Sp. Atk</th>\n",
       "      <th>Sp. Def</th>\n",
       "      <th>Speed</th>\n",
       "    </tr>\n",
       "  </thead>\n",
       "  <tbody>\n",
       "    <tr>\n",
       "      <th>0</th>\n",
       "      <td>1</td>\n",
       "      <td>Grass</td>\n",
       "      <td>Poison</td>\n",
       "      <td>45</td>\n",
       "      <td>49</td>\n",
       "      <td>49</td>\n",
       "      <td>65</td>\n",
       "      <td>65</td>\n",
       "      <td>45</td>\n",
       "    </tr>\n",
       "    <tr>\n",
       "      <th>1</th>\n",
       "      <td>2</td>\n",
       "      <td>Grass</td>\n",
       "      <td>Poison</td>\n",
       "      <td>60</td>\n",
       "      <td>62</td>\n",
       "      <td>63</td>\n",
       "      <td>80</td>\n",
       "      <td>80</td>\n",
       "      <td>60</td>\n",
       "    </tr>\n",
       "    <tr>\n",
       "      <th>2</th>\n",
       "      <td>3</td>\n",
       "      <td>Grass</td>\n",
       "      <td>Poison</td>\n",
       "      <td>80</td>\n",
       "      <td>82</td>\n",
       "      <td>83</td>\n",
       "      <td>100</td>\n",
       "      <td>100</td>\n",
       "      <td>80</td>\n",
       "    </tr>\n",
       "    <tr>\n",
       "      <th>3</th>\n",
       "      <td>4</td>\n",
       "      <td>Grass</td>\n",
       "      <td>Poison</td>\n",
       "      <td>80</td>\n",
       "      <td>100</td>\n",
       "      <td>123</td>\n",
       "      <td>122</td>\n",
       "      <td>120</td>\n",
       "      <td>80</td>\n",
       "    </tr>\n",
       "    <tr>\n",
       "      <th>4</th>\n",
       "      <td>5</td>\n",
       "      <td>Fire</td>\n",
       "      <td>NaN</td>\n",
       "      <td>39</td>\n",
       "      <td>52</td>\n",
       "      <td>43</td>\n",
       "      <td>60</td>\n",
       "      <td>50</td>\n",
       "      <td>65</td>\n",
       "    </tr>\n",
       "  </tbody>\n",
       "</table>\n",
       "</div>"
      ],
      "text/plain": [
       "   # Type 1  Type 2  HP  Attack  Defense  Sp. Atk  Sp. Def  Speed\n",
       "0  1  Grass  Poison  45      49       49       65       65     45\n",
       "1  2  Grass  Poison  60      62       63       80       80     60\n",
       "2  3  Grass  Poison  80      82       83      100      100     80\n",
       "3  4  Grass  Poison  80     100      123      122      120     80\n",
       "4  5   Fire     NaN  39      52       43       60       50     65"
      ]
     },
     "execution_count": 15,
     "metadata": {},
     "output_type": "execute_result"
    }
   ],
   "source": [
    "# Mia ignoranza sui pokemon:\n",
    "# Dopo una breve ricerca su generazioni di pokemon e pokemon leggendari ho scoperto \n",
    "# che le generazioni si riferiscono ai gruppi di pokemon introdotti del tempo, quindi \n",
    "# inutile al fine della classificazione, mentre i pokemon leggendari sono tali per \n",
    "# potenza maggiore nel combattimento. Quest'ultima caratteristica può essere \n",
    "# rappresentata dai valori di attacco, difesa, HP, ... gia presenti.\n",
    "# Quindi ritengo di poter eliminare anche questa colonna.\n",
    "# Oltre a questo, il tipo di pokemon definisce le mosse che può usare e quale effetto \n",
    "# hanno sui diversi tipi di pokemon. \n",
    "# Sono definite 18 tipologie per ogni colonna type. Occorre applicare un encoding \n",
    "# per estrarre dei valori numerici da queste due colonne categoriche.\n",
    "pokemon = pokemon_raw.drop(['Name','Generation','Legendary'], axis=1)\n",
    "pokemon.head()"
   ]
  },
  {
   "cell_type": "code",
   "execution_count": 16,
   "metadata": {},
   "outputs": [
    {
     "data": {
      "text/html": [
       "<div>\n",
       "<style scoped>\n",
       "    .dataframe tbody tr th:only-of-type {\n",
       "        vertical-align: middle;\n",
       "    }\n",
       "\n",
       "    .dataframe tbody tr th {\n",
       "        vertical-align: top;\n",
       "    }\n",
       "\n",
       "    .dataframe thead th {\n",
       "        text-align: right;\n",
       "    }\n",
       "</style>\n",
       "<table border=\"1\" class=\"dataframe\">\n",
       "  <thead>\n",
       "    <tr style=\"text-align: right;\">\n",
       "      <th></th>\n",
       "      <th>#</th>\n",
       "      <th>Type 1</th>\n",
       "      <th>Type 2</th>\n",
       "      <th>HP</th>\n",
       "      <th>Attack</th>\n",
       "      <th>Defense</th>\n",
       "      <th>Sp. Atk</th>\n",
       "      <th>Sp. Def</th>\n",
       "      <th>Speed</th>\n",
       "    </tr>\n",
       "  </thead>\n",
       "  <tbody>\n",
       "    <tr>\n",
       "      <th>0</th>\n",
       "      <td>1</td>\n",
       "      <td>Grass</td>\n",
       "      <td>Poison</td>\n",
       "      <td>45</td>\n",
       "      <td>49</td>\n",
       "      <td>49</td>\n",
       "      <td>65</td>\n",
       "      <td>65</td>\n",
       "      <td>45</td>\n",
       "    </tr>\n",
       "    <tr>\n",
       "      <th>1</th>\n",
       "      <td>2</td>\n",
       "      <td>Grass</td>\n",
       "      <td>Poison</td>\n",
       "      <td>60</td>\n",
       "      <td>62</td>\n",
       "      <td>63</td>\n",
       "      <td>80</td>\n",
       "      <td>80</td>\n",
       "      <td>60</td>\n",
       "    </tr>\n",
       "    <tr>\n",
       "      <th>2</th>\n",
       "      <td>3</td>\n",
       "      <td>Grass</td>\n",
       "      <td>Poison</td>\n",
       "      <td>80</td>\n",
       "      <td>82</td>\n",
       "      <td>83</td>\n",
       "      <td>100</td>\n",
       "      <td>100</td>\n",
       "      <td>80</td>\n",
       "    </tr>\n",
       "    <tr>\n",
       "      <th>3</th>\n",
       "      <td>4</td>\n",
       "      <td>Grass</td>\n",
       "      <td>Poison</td>\n",
       "      <td>80</td>\n",
       "      <td>100</td>\n",
       "      <td>123</td>\n",
       "      <td>122</td>\n",
       "      <td>120</td>\n",
       "      <td>80</td>\n",
       "    </tr>\n",
       "    <tr>\n",
       "      <th>4</th>\n",
       "      <td>5</td>\n",
       "      <td>Fire</td>\n",
       "      <td>aaa</td>\n",
       "      <td>39</td>\n",
       "      <td>52</td>\n",
       "      <td>43</td>\n",
       "      <td>60</td>\n",
       "      <td>50</td>\n",
       "      <td>65</td>\n",
       "    </tr>\n",
       "  </tbody>\n",
       "</table>\n",
       "</div>"
      ],
      "text/plain": [
       "   # Type 1  Type 2  HP  Attack  Defense  Sp. Atk  Sp. Def  Speed\n",
       "0  1  Grass  Poison  45      49       49       65       65     45\n",
       "1  2  Grass  Poison  60      62       63       80       80     60\n",
       "2  3  Grass  Poison  80      82       83      100      100     80\n",
       "3  4  Grass  Poison  80     100      123      122      120     80\n",
       "4  5   Fire     aaa  39      52       43       60       50     65"
      ]
     },
     "execution_count": 16,
     "metadata": {},
     "output_type": "execute_result"
    }
   ],
   "source": [
    "# Gestione del Type\n",
    "# Effettuare una OneHot Encoding porta alla creazione di 36 colonne (18*2) \n",
    "# le quali andranno in merge con quelle del pokemon avversario producendo un \n",
    "# totale di 72 colonne aggiuntive.\n",
    "# Essendo il numero di valori di ogni colonna un po troppo elevto per una OneHot \n",
    "# e per limitare il numero di colonne effettuo una Label Encoding associando ad \n",
    "# ogni valore delle due colonne un numero. In questo modo le colonne restano 2 \n",
    "# ma introduco un ordinamento nelle tipologie che non è menzionato nei dati \n",
    "# (possibile nota negativa nella strategia).\n",
    "\n",
    "# Inizio sostituendo i valori nulli con una stringa da me generata.\n",
    "pokemon['Type 2'] = pokemon['Type 2'].fillna('aaa')\n",
    "pokemon.head()\n",
    "# La riga 4 (come tutte le altre) ha ora Tipe 2 assegnato"
   ]
  },
  {
   "cell_type": "code",
   "execution_count": 17,
   "metadata": {},
   "outputs": [
    {
     "data": {
      "text/html": [
       "<div>\n",
       "<style scoped>\n",
       "    .dataframe tbody tr th:only-of-type {\n",
       "        vertical-align: middle;\n",
       "    }\n",
       "\n",
       "    .dataframe tbody tr th {\n",
       "        vertical-align: top;\n",
       "    }\n",
       "\n",
       "    .dataframe thead th {\n",
       "        text-align: right;\n",
       "    }\n",
       "</style>\n",
       "<table border=\"1\" class=\"dataframe\">\n",
       "  <thead>\n",
       "    <tr style=\"text-align: right;\">\n",
       "      <th></th>\n",
       "      <th>#</th>\n",
       "      <th>Type 1</th>\n",
       "      <th>Type 2</th>\n",
       "      <th>HP</th>\n",
       "      <th>Attack</th>\n",
       "      <th>Defense</th>\n",
       "      <th>Sp. Atk</th>\n",
       "      <th>Sp. Def</th>\n",
       "      <th>Speed</th>\n",
       "    </tr>\n",
       "  </thead>\n",
       "  <tbody>\n",
       "    <tr>\n",
       "      <th>0</th>\n",
       "      <td>1</td>\n",
       "      <td>9</td>\n",
       "      <td>13</td>\n",
       "      <td>45</td>\n",
       "      <td>49</td>\n",
       "      <td>49</td>\n",
       "      <td>65</td>\n",
       "      <td>65</td>\n",
       "      <td>45</td>\n",
       "    </tr>\n",
       "    <tr>\n",
       "      <th>1</th>\n",
       "      <td>2</td>\n",
       "      <td>9</td>\n",
       "      <td>13</td>\n",
       "      <td>60</td>\n",
       "      <td>62</td>\n",
       "      <td>63</td>\n",
       "      <td>80</td>\n",
       "      <td>80</td>\n",
       "      <td>60</td>\n",
       "    </tr>\n",
       "    <tr>\n",
       "      <th>2</th>\n",
       "      <td>3</td>\n",
       "      <td>9</td>\n",
       "      <td>13</td>\n",
       "      <td>80</td>\n",
       "      <td>82</td>\n",
       "      <td>83</td>\n",
       "      <td>100</td>\n",
       "      <td>100</td>\n",
       "      <td>80</td>\n",
       "    </tr>\n",
       "    <tr>\n",
       "      <th>3</th>\n",
       "      <td>4</td>\n",
       "      <td>9</td>\n",
       "      <td>13</td>\n",
       "      <td>80</td>\n",
       "      <td>100</td>\n",
       "      <td>123</td>\n",
       "      <td>122</td>\n",
       "      <td>120</td>\n",
       "      <td>80</td>\n",
       "    </tr>\n",
       "    <tr>\n",
       "      <th>4</th>\n",
       "      <td>5</td>\n",
       "      <td>6</td>\n",
       "      <td>18</td>\n",
       "      <td>39</td>\n",
       "      <td>52</td>\n",
       "      <td>43</td>\n",
       "      <td>60</td>\n",
       "      <td>50</td>\n",
       "      <td>65</td>\n",
       "    </tr>\n",
       "  </tbody>\n",
       "</table>\n",
       "</div>"
      ],
      "text/plain": [
       "   #  Type 1  Type 2  HP  Attack  Defense  Sp. Atk  Sp. Def  Speed\n",
       "0  1       9      13  45      49       49       65       65     45\n",
       "1  2       9      13  60      62       63       80       80     60\n",
       "2  3       9      13  80      82       83      100      100     80\n",
       "3  4       9      13  80     100      123      122      120     80\n",
       "4  5       6      18  39      52       43       60       50     65"
      ]
     },
     "execution_count": 17,
     "metadata": {},
     "output_type": "execute_result"
    }
   ],
   "source": [
    "# Effettuo una copia per non modificare i dati originali \n",
    "label_pokemon = pokemon.copy()\n",
    "\n",
    "# Creazione della lista delle colonne di valori categorici\n",
    "s = (pokemon.dtypes == 'object')\n",
    "object_cols = list(s[s].index)\n",
    "\n",
    "# Creazione del Label Encoder e sua applicazione a tutte le colonne categoriche.\n",
    "label_encoder = LabelEncoder()\n",
    "for col in object_cols:\n",
    "    label_pokemon[col] = label_encoder.fit_transform(pokemon[col])\n",
    "label_pokemon.head()"
   ]
  },
  {
   "cell_type": "code",
   "execution_count": 18,
   "metadata": {},
   "outputs": [
    {
     "name": "stdout",
     "output_type": "stream",
     "text": [
      "   First_pokemon  Second_pokemon  num_winner    #  Type 1  Type 2   HP  \\\n",
      "0            124             221         0.0  124      12      18  105   \n",
      "1             61             221         0.0   61      17      18   80   \n",
      "2            515             221         0.0  515      12      18  110   \n",
      "3            332             221         1.0  332      16      15   60   \n",
      "4            210             221         1.0  210      17      10   55   \n",
      "\n",
      "   Attack  Defense  Sp. Atk  ...  Speed  #_2  Type 1_2  Type 2_2  HP_2  \\\n",
      "0      95       80       40  ...     90  221         0        16    75   \n",
      "1      82       78       95  ...     85  221         0        16    75   \n",
      "2      85       95       80  ...     50  221         0        16    75   \n",
      "3      90      140       50  ...     40  221         0        16    75   \n",
      "4      45       45       25  ...     15  221         0        16    75   \n",
      "\n",
      "   Attack_2  Defense_2  Sp. Atk_2  Sp. Def_2  Speed_2  \n",
      "0        90        140         60         60       40  \n",
      "1        90        140         60         60       40  \n",
      "2        90        140         60         60       40  \n",
      "3        90        140         60         60       40  \n",
      "4        90        140         60         60       40  \n",
      "\n",
      "[5 rows x 21 columns]\n"
     ]
    }
   ],
   "source": [
    "# Effettuo il merge tra le tabelle \"combats\" (test e train) e pokemon\n",
    "trainp1 = X_train.merge(label_pokemon, left_on='First_pokemon', right_on='#', validate='many_to_one')\n",
    "trainp2 = trainp1.merge(label_pokemon, left_on='Second_pokemon', right_on='#', suffixes=(\"\", \"_2\"), validate='many_to_one')\n",
    "print(trainp2.head())\n",
    "\n",
    "testp1 = X_test.merge(label_pokemon, left_on='First_pokemon', right_on='#', validate='many_to_one')\n",
    "testp2 = testp1.merge(label_pokemon, left_on='Second_pokemon', right_on='#', suffixes=(\"\", \"_2\"), validate='many_to_one')"
   ]
  },
  {
   "cell_type": "code",
   "execution_count": 19,
   "metadata": {},
   "outputs": [
    {
     "data": {
      "text/plain": [
       "Index(['First_pokemon', 'Second_pokemon', 'num_winner', 'Type 1', 'Type 2',\n",
       "       'HP', 'Attack', 'Defense', 'Sp. Atk', 'Sp. Def', 'Speed', 'Type 1_2',\n",
       "       'Type 2_2', 'HP_2', 'Attack_2', 'Defense_2', 'Sp. Atk_2', 'Sp. Def_2',\n",
       "       'Speed_2'],\n",
       "      dtype='object')"
      ]
     },
     "execution_count": 19,
     "metadata": {},
     "output_type": "execute_result"
    }
   ],
   "source": [
    "# Rimozione delle colonne # e #_2\n",
    "trainp2= trainp2.drop(['#','#_2'], axis=1)\n",
    "testp2= testp2.drop(['#','#_2'], axis=1)\n",
    "trainp2.columns"
   ]
  },
  {
   "cell_type": "code",
   "execution_count": 20,
   "metadata": {},
   "outputs": [
    {
     "data": {
      "text/html": [
       "<div>\n",
       "<style scoped>\n",
       "    .dataframe tbody tr th:only-of-type {\n",
       "        vertical-align: middle;\n",
       "    }\n",
       "\n",
       "    .dataframe tbody tr th {\n",
       "        vertical-align: top;\n",
       "    }\n",
       "\n",
       "    .dataframe thead th {\n",
       "        text-align: right;\n",
       "    }\n",
       "</style>\n",
       "<table border=\"1\" class=\"dataframe\">\n",
       "  <thead>\n",
       "    <tr style=\"text-align: right;\">\n",
       "      <th></th>\n",
       "      <th>num_winner</th>\n",
       "      <th>Type 1</th>\n",
       "      <th>Type 2</th>\n",
       "      <th>Type 1_2</th>\n",
       "      <th>Type 2_2</th>\n",
       "    </tr>\n",
       "  </thead>\n",
       "  <tbody>\n",
       "    <tr>\n",
       "      <th>0</th>\n",
       "      <td>0.0</td>\n",
       "      <td>12</td>\n",
       "      <td>18</td>\n",
       "      <td>0</td>\n",
       "      <td>16</td>\n",
       "    </tr>\n",
       "    <tr>\n",
       "      <th>1</th>\n",
       "      <td>0.0</td>\n",
       "      <td>17</td>\n",
       "      <td>18</td>\n",
       "      <td>0</td>\n",
       "      <td>16</td>\n",
       "    </tr>\n",
       "    <tr>\n",
       "      <th>2</th>\n",
       "      <td>0.0</td>\n",
       "      <td>12</td>\n",
       "      <td>18</td>\n",
       "      <td>0</td>\n",
       "      <td>16</td>\n",
       "    </tr>\n",
       "    <tr>\n",
       "      <th>3</th>\n",
       "      <td>1.0</td>\n",
       "      <td>16</td>\n",
       "      <td>15</td>\n",
       "      <td>0</td>\n",
       "      <td>16</td>\n",
       "    </tr>\n",
       "    <tr>\n",
       "      <th>4</th>\n",
       "      <td>1.0</td>\n",
       "      <td>17</td>\n",
       "      <td>10</td>\n",
       "      <td>0</td>\n",
       "      <td>16</td>\n",
       "    </tr>\n",
       "  </tbody>\n",
       "</table>\n",
       "</div>"
      ],
      "text/plain": [
       "   num_winner  Type 1  Type 2  Type 1_2  Type 2_2\n",
       "0         0.0      12      18         0        16\n",
       "1         0.0      17      18         0        16\n",
       "2         0.0      12      18         0        16\n",
       "3         1.0      16      15         0        16\n",
       "4         1.0      17      10         0        16"
      ]
     },
     "execution_count": 20,
     "metadata": {},
     "output_type": "execute_result"
    }
   ],
   "source": [
    "# Estraggo le colonne Type e winner per eseguire i calcoli sulle restanti colonne per poi reinserirle\n",
    "type_col = ['Type 1','Type 2','Type 1_2','Type 2_2','num_winner']\n",
    "other_col = trainp2.columns.drop(type_col)\n",
    "\n",
    "train_type = trainp2.drop(other_col, axis=1)\n",
    "test_type = testp2.drop(other_col, axis=1)\n",
    "\n",
    "trainp2 = trainp2.drop(type_col, axis=1)\n",
    "testp2 = testp2.drop(type_col, axis=1)\n",
    "\n",
    "train_type.head()"
   ]
  },
  {
   "cell_type": "code",
   "execution_count": 21,
   "metadata": {},
   "outputs": [],
   "source": [
    "# I valori dei due pokemon vengono rappresentati dalla differenza di questi:\n",
    "# HP = HP-HP_2\n",
    "# Attack = Attack-Attack_2\n",
    "# Defense = Defense-Defense_2\n",
    "# e cosi anche Sp. Atk, Sp. Def e Speed\n",
    "# Dato che il pokemon 1 attacca per primo rappresento i valori come \"quanto il primo è più/meno forte del secondo\"\n",
    "\n",
    "# definisco con pk_value_col le colonne con attacco, difesa,... dei due pokemon nella tabella seguente\n",
    "pk_value_col = trainp2.columns.drop(['First_pokemon','Second_pokemon']) # ora non servono più\n",
    "not_pk_value_col = trainp2.columns.drop(pk_value_col)\n",
    "\n",
    "pk_value_train = trainp2.drop(not_pk_value_col, axis=1)\n",
    "not_pk_value_train = trainp2.drop(pk_value_col, axis=1)\n",
    "\n",
    "pk_value_test = testp2.drop(not_pk_value_col, axis=1)\n",
    "not_pk_value_test = testp2.drop(pk_value_col, axis=1)"
   ]
  },
  {
   "cell_type": "code",
   "execution_count": 22,
   "metadata": {},
   "outputs": [
    {
     "data": {
      "text/html": [
       "<div>\n",
       "<style scoped>\n",
       "    .dataframe tbody tr th:only-of-type {\n",
       "        vertical-align: middle;\n",
       "    }\n",
       "\n",
       "    .dataframe tbody tr th {\n",
       "        vertical-align: top;\n",
       "    }\n",
       "\n",
       "    .dataframe thead th {\n",
       "        text-align: right;\n",
       "    }\n",
       "</style>\n",
       "<table border=\"1\" class=\"dataframe\">\n",
       "  <thead>\n",
       "    <tr style=\"text-align: right;\">\n",
       "      <th></th>\n",
       "      <th>HP</th>\n",
       "      <th>Attack</th>\n",
       "      <th>Defense</th>\n",
       "      <th>Sp. Atk</th>\n",
       "      <th>Sp. Def</th>\n",
       "      <th>Speed</th>\n",
       "      <th>HP_2</th>\n",
       "      <th>Attack_2</th>\n",
       "      <th>Defense_2</th>\n",
       "      <th>Sp. Atk_2</th>\n",
       "      <th>Sp. Def_2</th>\n",
       "      <th>Speed_2</th>\n",
       "    </tr>\n",
       "  </thead>\n",
       "  <tbody>\n",
       "    <tr>\n",
       "      <th>0</th>\n",
       "      <td>105</td>\n",
       "      <td>95</td>\n",
       "      <td>80</td>\n",
       "      <td>40</td>\n",
       "      <td>80</td>\n",
       "      <td>90</td>\n",
       "      <td>75</td>\n",
       "      <td>90</td>\n",
       "      <td>140</td>\n",
       "      <td>60</td>\n",
       "      <td>60</td>\n",
       "      <td>40</td>\n",
       "    </tr>\n",
       "    <tr>\n",
       "      <th>1</th>\n",
       "      <td>80</td>\n",
       "      <td>82</td>\n",
       "      <td>78</td>\n",
       "      <td>95</td>\n",
       "      <td>80</td>\n",
       "      <td>85</td>\n",
       "      <td>75</td>\n",
       "      <td>90</td>\n",
       "      <td>140</td>\n",
       "      <td>60</td>\n",
       "      <td>60</td>\n",
       "      <td>40</td>\n",
       "    </tr>\n",
       "    <tr>\n",
       "      <th>2</th>\n",
       "      <td>110</td>\n",
       "      <td>85</td>\n",
       "      <td>95</td>\n",
       "      <td>80</td>\n",
       "      <td>95</td>\n",
       "      <td>50</td>\n",
       "      <td>75</td>\n",
       "      <td>90</td>\n",
       "      <td>140</td>\n",
       "      <td>60</td>\n",
       "      <td>60</td>\n",
       "      <td>40</td>\n",
       "    </tr>\n",
       "    <tr>\n",
       "      <th>3</th>\n",
       "      <td>60</td>\n",
       "      <td>90</td>\n",
       "      <td>140</td>\n",
       "      <td>50</td>\n",
       "      <td>50</td>\n",
       "      <td>40</td>\n",
       "      <td>75</td>\n",
       "      <td>90</td>\n",
       "      <td>140</td>\n",
       "      <td>60</td>\n",
       "      <td>60</td>\n",
       "      <td>40</td>\n",
       "    </tr>\n",
       "    <tr>\n",
       "      <th>4</th>\n",
       "      <td>55</td>\n",
       "      <td>45</td>\n",
       "      <td>45</td>\n",
       "      <td>25</td>\n",
       "      <td>25</td>\n",
       "      <td>15</td>\n",
       "      <td>75</td>\n",
       "      <td>90</td>\n",
       "      <td>140</td>\n",
       "      <td>60</td>\n",
       "      <td>60</td>\n",
       "      <td>40</td>\n",
       "    </tr>\n",
       "  </tbody>\n",
       "</table>\n",
       "</div>"
      ],
      "text/plain": [
       "    HP  Attack  Defense  Sp. Atk  Sp. Def  Speed  HP_2  Attack_2  Defense_2  \\\n",
       "0  105      95       80       40       80     90    75        90        140   \n",
       "1   80      82       78       95       80     85    75        90        140   \n",
       "2  110      85       95       80       95     50    75        90        140   \n",
       "3   60      90      140       50       50     40    75        90        140   \n",
       "4   55      45       45       25       25     15    75        90        140   \n",
       "\n",
       "   Sp. Atk_2  Sp. Def_2  Speed_2  \n",
       "0         60         60       40  \n",
       "1         60         60       40  \n",
       "2         60         60       40  \n",
       "3         60         60       40  \n",
       "4         60         60       40  "
      ]
     },
     "execution_count": 22,
     "metadata": {},
     "output_type": "execute_result"
    }
   ],
   "source": [
    "pk_value_train.head()"
   ]
  },
  {
   "cell_type": "code",
   "execution_count": 23,
   "metadata": {},
   "outputs": [],
   "source": [
    "# Funzione che calcola la differenza tra tutte le coppie di colonne colonna-colonna_2\n",
    "def calcola_dif(df):\n",
    "    l = int(len(df.columns)/2)\n",
    "    result_col = df.columns[0:l]\n",
    "#    for i in range(len(df)):\n",
    "#        for c in result_col:\n",
    "#            df.loc[i,c] = df.loc[i,c]-df.loc[i,c+'_2']\n",
    "    for c in result_col:\n",
    "        df['dif_'+c] = df[c] - df[c+'_2']"
   ]
  },
  {
   "cell_type": "code",
   "execution_count": 24,
   "metadata": {},
   "outputs": [],
   "source": [
    "# Applico la funzione precente a train e test\n",
    "calcola_dif(pk_value_train)\n",
    "calcola_dif(pk_value_test)"
   ]
  },
  {
   "cell_type": "code",
   "execution_count": 25,
   "metadata": {},
   "outputs": [
    {
     "data": {
      "text/html": [
       "<div>\n",
       "<style scoped>\n",
       "    .dataframe tbody tr th:only-of-type {\n",
       "        vertical-align: middle;\n",
       "    }\n",
       "\n",
       "    .dataframe tbody tr th {\n",
       "        vertical-align: top;\n",
       "    }\n",
       "\n",
       "    .dataframe thead th {\n",
       "        text-align: right;\n",
       "    }\n",
       "</style>\n",
       "<table border=\"1\" class=\"dataframe\">\n",
       "  <thead>\n",
       "    <tr style=\"text-align: right;\">\n",
       "      <th></th>\n",
       "      <th>HP</th>\n",
       "      <th>Attack</th>\n",
       "      <th>Defense</th>\n",
       "      <th>Sp. Atk</th>\n",
       "      <th>Sp. Def</th>\n",
       "      <th>Speed</th>\n",
       "      <th>HP_2</th>\n",
       "      <th>Attack_2</th>\n",
       "      <th>Defense_2</th>\n",
       "      <th>Sp. Atk_2</th>\n",
       "      <th>Sp. Def_2</th>\n",
       "      <th>Speed_2</th>\n",
       "      <th>dif_HP</th>\n",
       "      <th>dif_Attack</th>\n",
       "      <th>dif_Defense</th>\n",
       "      <th>dif_Sp. Atk</th>\n",
       "      <th>dif_Sp. Def</th>\n",
       "      <th>dif_Speed</th>\n",
       "    </tr>\n",
       "  </thead>\n",
       "  <tbody>\n",
       "    <tr>\n",
       "      <th>0</th>\n",
       "      <td>105</td>\n",
       "      <td>95</td>\n",
       "      <td>80</td>\n",
       "      <td>40</td>\n",
       "      <td>80</td>\n",
       "      <td>90</td>\n",
       "      <td>75</td>\n",
       "      <td>90</td>\n",
       "      <td>140</td>\n",
       "      <td>60</td>\n",
       "      <td>60</td>\n",
       "      <td>40</td>\n",
       "      <td>30</td>\n",
       "      <td>5</td>\n",
       "      <td>-60</td>\n",
       "      <td>-20</td>\n",
       "      <td>20</td>\n",
       "      <td>50</td>\n",
       "    </tr>\n",
       "    <tr>\n",
       "      <th>1</th>\n",
       "      <td>80</td>\n",
       "      <td>82</td>\n",
       "      <td>78</td>\n",
       "      <td>95</td>\n",
       "      <td>80</td>\n",
       "      <td>85</td>\n",
       "      <td>75</td>\n",
       "      <td>90</td>\n",
       "      <td>140</td>\n",
       "      <td>60</td>\n",
       "      <td>60</td>\n",
       "      <td>40</td>\n",
       "      <td>5</td>\n",
       "      <td>-8</td>\n",
       "      <td>-62</td>\n",
       "      <td>35</td>\n",
       "      <td>20</td>\n",
       "      <td>45</td>\n",
       "    </tr>\n",
       "    <tr>\n",
       "      <th>2</th>\n",
       "      <td>110</td>\n",
       "      <td>85</td>\n",
       "      <td>95</td>\n",
       "      <td>80</td>\n",
       "      <td>95</td>\n",
       "      <td>50</td>\n",
       "      <td>75</td>\n",
       "      <td>90</td>\n",
       "      <td>140</td>\n",
       "      <td>60</td>\n",
       "      <td>60</td>\n",
       "      <td>40</td>\n",
       "      <td>35</td>\n",
       "      <td>-5</td>\n",
       "      <td>-45</td>\n",
       "      <td>20</td>\n",
       "      <td>35</td>\n",
       "      <td>10</td>\n",
       "    </tr>\n",
       "    <tr>\n",
       "      <th>3</th>\n",
       "      <td>60</td>\n",
       "      <td>90</td>\n",
       "      <td>140</td>\n",
       "      <td>50</td>\n",
       "      <td>50</td>\n",
       "      <td>40</td>\n",
       "      <td>75</td>\n",
       "      <td>90</td>\n",
       "      <td>140</td>\n",
       "      <td>60</td>\n",
       "      <td>60</td>\n",
       "      <td>40</td>\n",
       "      <td>-15</td>\n",
       "      <td>0</td>\n",
       "      <td>0</td>\n",
       "      <td>-10</td>\n",
       "      <td>-10</td>\n",
       "      <td>0</td>\n",
       "    </tr>\n",
       "    <tr>\n",
       "      <th>4</th>\n",
       "      <td>55</td>\n",
       "      <td>45</td>\n",
       "      <td>45</td>\n",
       "      <td>25</td>\n",
       "      <td>25</td>\n",
       "      <td>15</td>\n",
       "      <td>75</td>\n",
       "      <td>90</td>\n",
       "      <td>140</td>\n",
       "      <td>60</td>\n",
       "      <td>60</td>\n",
       "      <td>40</td>\n",
       "      <td>-20</td>\n",
       "      <td>-45</td>\n",
       "      <td>-95</td>\n",
       "      <td>-35</td>\n",
       "      <td>-35</td>\n",
       "      <td>-25</td>\n",
       "    </tr>\n",
       "  </tbody>\n",
       "</table>\n",
       "</div>"
      ],
      "text/plain": [
       "    HP  Attack  Defense  Sp. Atk  Sp. Def  Speed  HP_2  Attack_2  Defense_2  \\\n",
       "0  105      95       80       40       80     90    75        90        140   \n",
       "1   80      82       78       95       80     85    75        90        140   \n",
       "2  110      85       95       80       95     50    75        90        140   \n",
       "3   60      90      140       50       50     40    75        90        140   \n",
       "4   55      45       45       25       25     15    75        90        140   \n",
       "\n",
       "   Sp. Atk_2  Sp. Def_2  Speed_2  dif_HP  dif_Attack  dif_Defense  \\\n",
       "0         60         60       40      30           5          -60   \n",
       "1         60         60       40       5          -8          -62   \n",
       "2         60         60       40      35          -5          -45   \n",
       "3         60         60       40     -15           0            0   \n",
       "4         60         60       40     -20         -45          -95   \n",
       "\n",
       "   dif_Sp. Atk  dif_Sp. Def  dif_Speed  \n",
       "0          -20           20         50  \n",
       "1           35           20         45  \n",
       "2           20           35         10  \n",
       "3          -10          -10          0  \n",
       "4          -35          -35        -25  "
      ]
     },
     "execution_count": 25,
     "metadata": {},
     "output_type": "execute_result"
    }
   ],
   "source": [
    "pk_value_train.head()"
   ]
  },
  {
   "cell_type": "code",
   "execution_count": 26,
   "metadata": {},
   "outputs": [],
   "source": [
    "# Ottenuti questi valori possiamo vedere quanta differenza ci sia tra i pokemon in prima \n",
    "# posizione e quelli in seconda, rivedendo il raggionamento fatto all'inizio\n",
    "\n",
    "# Funzione che calcola per la colonna passata la percentuale di valori positivi rispetto al totale\n",
    "colonne =[]\n",
    "def fBestPer(df1, df2, col):\n",
    "    fbest = 0\n",
    "    count = 0\n",
    "    for i in range(len(df1)):\n",
    "        if df1.loc[i,col] > 0 & (col.startswith('dif')) & (not col.endswith('_2')):\n",
    "            fbest = fbest+1\n",
    "        count = count+1\n",
    "        if col.startswith('dif'):\n",
    "            colonne.append(col)\n",
    "    for i in range(len(df2)):\n",
    "        if df2.loc[i,col] > 0 & (not col.startswith('dif')) & (not col.endswith('_2')):\n",
    "            fbest = fbest+1\n",
    "        count = count+1\n",
    "    return fbest/count"
   ]
  },
  {
   "cell_type": "code",
   "execution_count": 27,
   "metadata": {},
   "outputs": [
    {
     "data": {
      "text/plain": [
       "(-1.0, 18.0)"
      ]
     },
     "execution_count": 27,
     "metadata": {},
     "output_type": "execute_result"
    },
    {
     "data": {
      "image/png": "[encoded data removed]",
      "text/plain": [
       "<Figure size 720x360 with 1 Axes>"
      ]
     },
     "metadata": {
      "needs_background": "light"
     },
     "output_type": "display_data"
    }
   ],
   "source": [
    "# Calcolo tutte le percentuali per le differenze annullando tutti gli altri valori\n",
    "first = []\n",
    "for col in pk_value_test.columns:\n",
    "    first.append(fBestPer(pk_value_train, pk_value_test, col))\n",
    "for h in range(0,13):\n",
    "    first[h]= 0\n",
    "\n",
    "# Stampo il grafo\n",
    "plt.figure(figsize=(10,5))\n",
    "plt.barh(np.arange(18), first, align='center')\n",
    "plt.yticks(np.arange(18), pk_value_test.columns)\n",
    "plt.xlabel(\"Percentuale differenza positiva nel primo pokemon\")\n",
    "plt.ylabel(\"features\")\n",
    "plt.ylim(-1, 18)"
   ]
  },
  {
   "cell_type": "code",
   "execution_count": 28,
   "metadata": {},
   "outputs": [],
   "source": [
    "# Considerando il risultato ottenuto ed il precedente si può supporre che la posizione \n",
    "# (chi inizia) non da vantaggio al pokemon. Abbiamo verificato che i pokemon in prima \n",
    "# posizione hanno un numero leggermente inferiore di vittorie rispetto ai secondi e con \n",
    "# il grafo qui sopra possiamo verificare che ciò è dovuto al fatto che i primi hanno \n",
    "# delle caratteristiche leggermente inferiori rispetto ai secondi.\n",
    "# Ritengo quindi trascurabile la considerazione per cui il primo attacca per primo."
   ]
  },
  {
   "cell_type": "code",
   "execution_count": 29,
   "metadata": {},
   "outputs": [
    {
     "data": {
      "text/html": [
       "<div>\n",
       "<style scoped>\n",
       "    .dataframe tbody tr th:only-of-type {\n",
       "        vertical-align: middle;\n",
       "    }\n",
       "\n",
       "    .dataframe tbody tr th {\n",
       "        vertical-align: top;\n",
       "    }\n",
       "\n",
       "    .dataframe thead th {\n",
       "        text-align: right;\n",
       "    }\n",
       "</style>\n",
       "<table border=\"1\" class=\"dataframe\">\n",
       "  <thead>\n",
       "    <tr style=\"text-align: right;\">\n",
       "      <th></th>\n",
       "      <th>HP</th>\n",
       "      <th>Attack</th>\n",
       "      <th>Defense</th>\n",
       "      <th>Sp. Atk</th>\n",
       "      <th>Sp. Def</th>\n",
       "      <th>Speed</th>\n",
       "      <th>HP_2</th>\n",
       "      <th>Attack_2</th>\n",
       "      <th>Defense_2</th>\n",
       "      <th>Sp. Atk_2</th>\n",
       "      <th>...</th>\n",
       "      <th>dif_Attack</th>\n",
       "      <th>dif_Defense</th>\n",
       "      <th>dif_Sp. Atk</th>\n",
       "      <th>dif_Sp. Def</th>\n",
       "      <th>dif_Speed</th>\n",
       "      <th>num_winner</th>\n",
       "      <th>Type 1</th>\n",
       "      <th>Type 2</th>\n",
       "      <th>Type 1_2</th>\n",
       "      <th>Type 2_2</th>\n",
       "    </tr>\n",
       "  </thead>\n",
       "  <tbody>\n",
       "    <tr>\n",
       "      <th>0</th>\n",
       "      <td>105</td>\n",
       "      <td>95</td>\n",
       "      <td>80</td>\n",
       "      <td>40</td>\n",
       "      <td>80</td>\n",
       "      <td>90</td>\n",
       "      <td>75</td>\n",
       "      <td>90</td>\n",
       "      <td>140</td>\n",
       "      <td>60</td>\n",
       "      <td>...</td>\n",
       "      <td>5</td>\n",
       "      <td>-60</td>\n",
       "      <td>-20</td>\n",
       "      <td>20</td>\n",
       "      <td>50</td>\n",
       "      <td>0.0</td>\n",
       "      <td>12</td>\n",
       "      <td>18</td>\n",
       "      <td>0</td>\n",
       "      <td>16</td>\n",
       "    </tr>\n",
       "    <tr>\n",
       "      <th>1</th>\n",
       "      <td>80</td>\n",
       "      <td>82</td>\n",
       "      <td>78</td>\n",
       "      <td>95</td>\n",
       "      <td>80</td>\n",
       "      <td>85</td>\n",
       "      <td>75</td>\n",
       "      <td>90</td>\n",
       "      <td>140</td>\n",
       "      <td>60</td>\n",
       "      <td>...</td>\n",
       "      <td>-8</td>\n",
       "      <td>-62</td>\n",
       "      <td>35</td>\n",
       "      <td>20</td>\n",
       "      <td>45</td>\n",
       "      <td>0.0</td>\n",
       "      <td>17</td>\n",
       "      <td>18</td>\n",
       "      <td>0</td>\n",
       "      <td>16</td>\n",
       "    </tr>\n",
       "    <tr>\n",
       "      <th>2</th>\n",
       "      <td>110</td>\n",
       "      <td>85</td>\n",
       "      <td>95</td>\n",
       "      <td>80</td>\n",
       "      <td>95</td>\n",
       "      <td>50</td>\n",
       "      <td>75</td>\n",
       "      <td>90</td>\n",
       "      <td>140</td>\n",
       "      <td>60</td>\n",
       "      <td>...</td>\n",
       "      <td>-5</td>\n",
       "      <td>-45</td>\n",
       "      <td>20</td>\n",
       "      <td>35</td>\n",
       "      <td>10</td>\n",
       "      <td>0.0</td>\n",
       "      <td>12</td>\n",
       "      <td>18</td>\n",
       "      <td>0</td>\n",
       "      <td>16</td>\n",
       "    </tr>\n",
       "    <tr>\n",
       "      <th>3</th>\n",
       "      <td>60</td>\n",
       "      <td>90</td>\n",
       "      <td>140</td>\n",
       "      <td>50</td>\n",
       "      <td>50</td>\n",
       "      <td>40</td>\n",
       "      <td>75</td>\n",
       "      <td>90</td>\n",
       "      <td>140</td>\n",
       "      <td>60</td>\n",
       "      <td>...</td>\n",
       "      <td>0</td>\n",
       "      <td>0</td>\n",
       "      <td>-10</td>\n",
       "      <td>-10</td>\n",
       "      <td>0</td>\n",
       "      <td>1.0</td>\n",
       "      <td>16</td>\n",
       "      <td>15</td>\n",
       "      <td>0</td>\n",
       "      <td>16</td>\n",
       "    </tr>\n",
       "    <tr>\n",
       "      <th>4</th>\n",
       "      <td>55</td>\n",
       "      <td>45</td>\n",
       "      <td>45</td>\n",
       "      <td>25</td>\n",
       "      <td>25</td>\n",
       "      <td>15</td>\n",
       "      <td>75</td>\n",
       "      <td>90</td>\n",
       "      <td>140</td>\n",
       "      <td>60</td>\n",
       "      <td>...</td>\n",
       "      <td>-45</td>\n",
       "      <td>-95</td>\n",
       "      <td>-35</td>\n",
       "      <td>-35</td>\n",
       "      <td>-25</td>\n",
       "      <td>1.0</td>\n",
       "      <td>17</td>\n",
       "      <td>10</td>\n",
       "      <td>0</td>\n",
       "      <td>16</td>\n",
       "    </tr>\n",
       "  </tbody>\n",
       "</table>\n",
       "<p>5 rows × 23 columns</p>\n",
       "</div>"
      ],
      "text/plain": [
       "    HP  Attack  Defense  Sp. Atk  Sp. Def  Speed  HP_2  Attack_2  Defense_2  \\\n",
       "0  105      95       80       40       80     90    75        90        140   \n",
       "1   80      82       78       95       80     85    75        90        140   \n",
       "2  110      85       95       80       95     50    75        90        140   \n",
       "3   60      90      140       50       50     40    75        90        140   \n",
       "4   55      45       45       25       25     15    75        90        140   \n",
       "\n",
       "   Sp. Atk_2  ...  dif_Attack  dif_Defense  dif_Sp. Atk  dif_Sp. Def  \\\n",
       "0         60  ...           5          -60          -20           20   \n",
       "1         60  ...          -8          -62           35           20   \n",
       "2         60  ...          -5          -45           20           35   \n",
       "3         60  ...           0            0          -10          -10   \n",
       "4         60  ...         -45          -95          -35          -35   \n",
       "\n",
       "   dif_Speed  num_winner  Type 1  Type 2  Type 1_2  Type 2_2  \n",
       "0         50         0.0      12      18         0        16  \n",
       "1         45         0.0      17      18         0        16  \n",
       "2         10         0.0      12      18         0        16  \n",
       "3          0         1.0      16      15         0        16  \n",
       "4        -25         1.0      17      10         0        16  \n",
       "\n",
       "[5 rows x 23 columns]"
      ]
     },
     "execution_count": 29,
     "metadata": {},
     "output_type": "execute_result"
    }
   ],
   "source": [
    "# Aggiungo le colonne type e winner precedentemente rimosse\n",
    "pk_train = pd.concat([pk_value_train, train_type], axis=1)\n",
    "pk_test = pd.concat([pk_value_test, test_type], axis=1)\n",
    "pk_train.head()"
   ]
  },
  {
   "cell_type": "code",
   "execution_count": 30,
   "metadata": {},
   "outputs": [],
   "source": [
    "# Calcolo della mutua informazione\n",
    "\n",
    "# genero una separazione target-features provvisoria per il grafo\n",
    "y_train = pk_train.num_winner\n",
    "pk_t = pk_train.drop(['num_winner'], axis=1)\n",
    "\n",
    "# tutte le variabili int (necessario per utilizzare mutual_info_regression)\n",
    "discrete_features = pk_t.dtypes == int\n",
    "\n",
    "# funzione che calcola la mutua informazione tra le feature e il target passato\n",
    "def make_mi_scores(X, y, discrete_features):\n",
    "    mi_scores = mutual_info_regression(X, y, discrete_features=discrete_features)\n",
    "    mi_scores = pd.Series(mi_scores, name=\"MI Scores\", index=X.columns)\n",
    "    mi_scores = mi_scores.sort_values(ascending=False)\n",
    "    return mi_scores"
   ]
  },
  {
   "cell_type": "code",
   "execution_count": 31,
   "metadata": {},
   "outputs": [
    {
     "data": {
      "text/plain": [
       "dif_Speed      0.130173\n",
       "Speed          0.129782\n",
       "Speed_2        0.115988\n",
       "dif_Attack     0.056739\n",
       "dif_Sp. Atk    0.049644\n",
       "Attack         0.036453\n",
       "Attack_2       0.034960\n",
       "Sp. Atk_2      0.033176\n",
       "Type 2_2       0.023579\n",
       "Sp. Def        0.023123\n",
       "dif_HP         0.022820\n",
       "Type 2         0.021898\n",
       "HP             0.021650\n",
       "Sp. Atk        0.020786\n",
       "Sp. Def_2      0.020362\n",
       "dif_Sp. Def    0.019704\n",
       "HP_2           0.018531\n",
       "Type 1         0.010230\n",
       "Defense_2      0.009790\n",
       "dif_Defense    0.009367\n",
       "Defense        0.008390\n",
       "Type 1_2       0.005268\n",
       "Name: MI Scores, dtype: float64"
      ]
     },
     "execution_count": 31,
     "metadata": {},
     "output_type": "execute_result"
    }
   ],
   "source": [
    "# Calcolo dello score relativo alla mutua informazione\n",
    "mi_scores = make_mi_scores(pk_t, y_train, discrete_features)\n",
    "mi_scores  # stampa dei valori"
   ]
  },
  {
   "cell_type": "code",
   "execution_count": 32,
   "metadata": {},
   "outputs": [
    {
     "data": {
      "image/png": "[encoded data removed]",
      "text/plain": [
       "<Figure size 800x500 with 1 Axes>"
      ]
     },
     "metadata": {
      "needs_background": "light"
     },
     "output_type": "display_data"
    }
   ],
   "source": [
    "# Visualizzazione su grafico della mutua informazione\n",
    "def plot_mi_scores(scores):\n",
    "    scores = scores.sort_values(ascending=True)\n",
    "    width = np.arange(len(scores))\n",
    "    ticks = list(scores.index)\n",
    "    plt.barh(width, scores)\n",
    "    plt.yticks(width, ticks)\n",
    "    plt.title(\"Mutual Information Scores\")\n",
    "\n",
    "plt.figure(dpi=100, figsize=(8, 5))\n",
    "plot_mi_scores(mi_scores)"
   ]
  },
  {
   "cell_type": "code",
   "execution_count": 33,
   "metadata": {},
   "outputs": [
    {
     "data": {
      "text/plain": [
       "Index(['Speed', 'Speed_2', 'dif_Attack', 'dif_Sp. Atk', 'dif_Speed',\n",
       "       'num_winner'],\n",
       "      dtype='object')"
      ]
     },
     "execution_count": 33,
     "metadata": {},
     "output_type": "execute_result"
    }
   ],
   "source": [
    "# Creo delle copie dei data frame per mantenere inalterati i dati precedenti in modo da \n",
    "# poter lavorare sulle features necessarie al modello\n",
    "prova_train = pk_train.copy()\n",
    "prova_test = pk_test.copy()\n",
    "\n",
    "# In base ai valori di MI precedentemente trovati e plottati su grafo possiamo capire \n",
    "# che molte features portano poca informazione. Per questo ho scelto di eliminare tutte \n",
    "# quelle con valore al di sotto di 0.04 (da Attack_2 in poi)\n",
    "prova_train = prova_train.drop(['dif_Defense','Defense','Type 1','Defense_2','dif_HP','HP_2','Type 2_2','Type 1_2','dif_Sp. Def','HP','Attack','Attack_2','Type 2','Sp. Atk_2','Sp. Atk','Sp. Def','Sp. Def_2'], axis=1)\n",
    "prova_test = prova_test.drop(['dif_Defense','Defense','Type 1','Defense_2','dif_HP','HP_2','Type 2_2','Type 1_2','dif_Sp. Def','HP','Attack','Attack_2','Type 2','Sp. Atk_2','Sp. Atk','Sp. Def','Sp. Def_2'], axis=1)\n",
    "\n",
    "# Queste sono le colonne restanti\n",
    "prova_train.columns"
   ]
  },
  {
   "cell_type": "code",
   "execution_count": 34,
   "metadata": {},
   "outputs": [],
   "source": [
    "# Separazione delle features dal target\n",
    "# train\n",
    "y_train = prova_train.num_winner\n",
    "prova_train = prova_train.drop(['num_winner'], axis=1)\n",
    "\n",
    "# test\n",
    "y_test = prova_test.num_winner\n",
    "prova_test = prova_test.drop(['num_winner'], axis=1)"
   ]
  },
  {
   "cell_type": "markdown",
   "metadata": {},
   "source": [
    "### Classificatore"
   ]
  },
  {
   "cell_type": "code",
   "execution_count": 35,
   "metadata": {},
   "outputs": [],
   "source": [
    "# Separazione dei file di training in training e validation\n",
    "train_X, val_X, train_y, val_y = train_test_split(prova_train, y_train, random_state = 0)"
   ]
  },
  {
   "cell_type": "code",
   "execution_count": 36,
   "metadata": {},
   "outputs": [
    {
     "name": "stdout",
     "output_type": "stream",
     "text": [
      "Accuracy on training set: 99.942\n",
      "Accuracy on validation set: 91.463\n"
     ]
    }
   ],
   "source": [
    "# Addestramento e calcolo dell'accuracy utilizzando train e validation\n",
    "classificatore = DecisionTreeClassifier(random_state=0)\n",
    "classificatore.fit(train_X, train_y)\n",
    "print(\"Accuracy on training set: {:.3f}\".format(classificatore.score(train_X, train_y)*100))\n",
    "print(\"Accuracy on validation set: {:.3f}\".format(classificatore.score(val_X, val_y)*100))"
   ]
  },
  {
   "cell_type": "code",
   "execution_count": 37,
   "metadata": {},
   "outputs": [
    {
     "data": {
      "image/png": "[encoded data removed]",
      "text/plain": [
       "<Figure size 720x360 with 1 Axes>"
      ]
     },
     "metadata": {
      "needs_background": "light"
     },
     "output_type": "display_data"
    }
   ],
   "source": [
    "# Stampo un grafo per individuare l'importanza delle feature\n",
    "def plot_feature_importances_churn(model):\n",
    "    n_features = train_X.shape[1]\n",
    "    plt.figure(figsize=(10,5))\n",
    "    plt.barh(np.arange(n_features), model.feature_importances_, align='center')\n",
    "    plt.yticks(np.arange(n_features), train_X.columns)\n",
    "    plt.xlabel(\"Feature importance\")\n",
    "    plt.ylabel(\"Feature\")\n",
    "    plt.ylim(-1, n_features)\n",
    "\n",
    "plot_feature_importances_churn(classificatore)"
   ]
  },
  {
   "cell_type": "code",
   "execution_count": 38,
   "metadata": {},
   "outputs": [],
   "source": [
    "# Definisco una funzione per individuare l'accuracy del validation set in base ai parametri dati\n",
    "def max_lif_function(maxD, maxL, X_train, X_val, y_train, y_val):\n",
    "    model = DecisionTreeClassifier(max_depth=maxD, max_leaf_nodes = maxL, random_state=0)\n",
    "        # max_leaf_nodes: numero massimo di foglie generabili nell'albero\n",
    "    model.fit(X_train, y_train)\n",
    "    accuracy = model.score(X_val, y_val)\n",
    "    return(accuracy)"
   ]
  },
  {
   "cell_type": "code",
   "execution_count": 39,
   "metadata": {},
   "outputs": [
    {
     "name": "stdout",
     "output_type": "stream",
     "text": [
      "Max_depth: 7, max_leaf_nodes: 53  \t\t Accuracy:  9515\n"
     ]
    }
   ],
   "source": [
    "# Itero il calcolo dell'accuracy al variare dei parametri e stampo il miglior valore\n",
    "# i range utilizzati sono stati ottenuti iterando su intervalli sempre più piccoli e con \n",
    "# passi decrescenti\n",
    "m = 0\n",
    "d = 0\n",
    "l = 0\n",
    "for maxD in range(2,11,1):\n",
    "    for maxL in range(40,60,1):\n",
    "        my_accuracy = max_lif_function(maxD, maxL, train_X, val_X, train_y, val_y)*10000\n",
    "        if my_accuracy > m:\n",
    "            m = my_accuracy\n",
    "            d = maxD\n",
    "            l = maxL\n",
    "print(\"Max_depth: %d, max_leaf_nodes: %d  \\t\\t Accuracy:  %d\" %(d, l, m))"
   ]
  },
  {
   "cell_type": "code",
   "execution_count": 40,
   "metadata": {},
   "outputs": [],
   "source": [
    "# max_leaf_nodes = 53"
   ]
  },
  {
   "cell_type": "code",
   "execution_count": 41,
   "metadata": {},
   "outputs": [],
   "source": [
    "# max_depth = 7"
   ]
  },
  {
   "cell_type": "code",
   "execution_count": 42,
   "metadata": {},
   "outputs": [
    {
     "name": "stdout",
     "output_type": "stream",
     "text": [
      "Accuracy on training set: 94.954\n",
      "Accuracy on validation set: 95.150\n"
     ]
    }
   ],
   "source": [
    "# Ripeto l'addestramento utilizzando i parametri ottenuti\n",
    "# Addestramento e calcolo dell'accuracy utilizzando train e validation\n",
    "from sklearn.tree import DecisionTreeClassifier\n",
    "\n",
    "classificatore = DecisionTreeClassifier(random_state=0,max_leaf_nodes=53, max_depth=7)\n",
    "classificatore.fit(train_X, train_y)\n",
    "print(\"Accuracy on training set: {:.3f}\".format(classificatore.score(train_X, train_y)*100))\n",
    "print(\"Accuracy on validation set: {:.3f}\".format(classificatore.score(val_X, val_y)*100))"
   ]
  },
  {
   "cell_type": "code",
   "execution_count": 43,
   "metadata": {},
   "outputs": [
    {
     "data": {
      "image/png": "[encoded data removed]",
      "text/plain": [
       "<Figure size 720x360 with 1 Axes>"
      ]
     },
     "metadata": {
      "needs_background": "light"
     },
     "output_type": "display_data"
    }
   ],
   "source": [
    "# Visualizzo l'importanza della featurs per questo nuovo modello\n",
    "plot_feature_importances_churn(classificatore)\n",
    "# La massimizzazione dell'accuracy incrementa il divario nell'importanza delle feature usate"
   ]
  },
  {
   "cell_type": "code",
   "execution_count": 44,
   "metadata": {},
   "outputs": [
    {
     "name": "stdout",
     "output_type": "stream",
     "text": [
      "Accuracy on training set: 94.881\n",
      "Accuracy on test set: 94.788\n"
     ]
    }
   ],
   "source": [
    "# Ripeto l'addestramento utilizzando i valori per la consegna\n",
    "# Addestramento e calcolo dell'accuracy utilizzando train e test\n",
    "clas = DecisionTreeClassifier(max_depth=7, max_leaf_nodes = 29, random_state=42)\n",
    "\n",
    "clas.fit(prova_train, y_train)\n",
    "print(\"Accuracy on training set: {:.3f}\".format(clas.score(prova_train, y_train)*100))\n",
    "print(\"Accuracy on test set: {:.3f}\".format(clas.score(prova_test, y_test)*100))"
   ]
  },
  {
   "cell_type": "code",
   "execution_count": null,
   "metadata": {},
   "outputs": [],
   "source": []
  }
 ],
 "metadata": {
  "kernelspec": {
   "display_name": "Python 3",
   "language": "python",
   "name": "python3"
  },
  "language_info": {
   "codemirror_mode": {
    "name": "ipython",
    "version": 3
   },
   "file_extension": ".py",
   "mimetype": "text/x-python",
   "name": "python",
   "nbconvert_exporter": "python",
   "pygments_lexer": "ipython3",
   "version": "3.8.5"
  }
 },
 "nbformat": 4,
 "nbformat_minor": 4
}
